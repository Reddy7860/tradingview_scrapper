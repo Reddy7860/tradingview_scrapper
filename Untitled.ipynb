{
 "cells": [
  {
   "cell_type": "code",
   "execution_count": 1,
   "id": "098f5aff",
   "metadata": {},
   "outputs": [
    {
     "ename": "FileNotFoundError",
     "evalue": "[Errno 2] No such file or directory: '/usr/bin/google-chrome-unstable'",
     "output_type": "error",
     "traceback": [
      "\u001b[0;31m---------------------------------------------------------------------------\u001b[0m",
      "\u001b[0;31mFileNotFoundError\u001b[0m                         Traceback (most recent call last)",
      "Input \u001b[0;32mIn [1]\u001b[0m, in \u001b[0;36m<cell line: 46>\u001b[0;34m()\u001b[0m\n\u001b[1;32m     42\u001b[0m browser_path \u001b[38;5;241m=\u001b[39m \u001b[38;5;124m'\u001b[39m\u001b[38;5;124m/usr/bin/google-chrome-unstable\u001b[39m\u001b[38;5;124m'\u001b[39m\n\u001b[1;32m     43\u001b[0m \u001b[38;5;66;03m#browser_path = '/usr/bin/microsoft-edge'\u001b[39;00m\n\u001b[1;32m     44\u001b[0m \u001b[38;5;66;03m#browser_path = '/snap/bin/chromium'\u001b[39;00m\n\u001b[1;32m     45\u001b[0m \u001b[38;5;66;03m#browser_path = '/usr/bin/firefox'\u001b[39;00m\n\u001b[0;32m---> 46\u001b[0m browser, conn \u001b[38;5;241m=\u001b[39m \u001b[43mstart_browser\u001b[49m\u001b[43m(\u001b[49m\u001b[43mbrowser_path\u001b[49m\u001b[43m,\u001b[49m\u001b[43m \u001b[49m\u001b[38;5;241;43m9222\u001b[39;49m\u001b[43m)\u001b[49m\n\u001b[1;32m     47\u001b[0m run_command(conn, \u001b[38;5;124m'\u001b[39m\u001b[38;5;124mPage.navigate\u001b[39m\u001b[38;5;124m'\u001b[39m, url\u001b[38;5;241m=\u001b[39mtv_url)\n\u001b[1;32m     48\u001b[0m time\u001b[38;5;241m.\u001b[39msleep(\u001b[38;5;241m5\u001b[39m) \u001b[38;5;66;03m# let it load\u001b[39;00m\n",
      "Input \u001b[0;32mIn [1]\u001b[0m, in \u001b[0;36mstart_browser\u001b[0;34m(browser_path, debugging_port)\u001b[0m\n\u001b[1;32m      8\u001b[0m \u001b[38;5;28;01mdef\u001b[39;00m \u001b[38;5;21mstart_browser\u001b[39m(browser_path, debugging_port):\n\u001b[1;32m      9\u001b[0m     options \u001b[38;5;241m=\u001b[39m [\u001b[38;5;66;03m#'--headless',\u001b[39;00m\n\u001b[1;32m     10\u001b[0m                 \u001b[38;5;124mf\u001b[39m\u001b[38;5;124m'\u001b[39m\u001b[38;5;124m--remote-debugging-port=\u001b[39m\u001b[38;5;132;01m{\u001b[39;00mdebugging_port\u001b[38;5;132;01m}\u001b[39;00m\u001b[38;5;124m'\u001b[39m,\n\u001b[1;32m     11\u001b[0m                \u001b[38;5;66;03m#'--remote-allow-origins=http://127.0.0.1:{debugging_port}']\u001b[39;00m\n\u001b[1;32m     12\u001b[0m                \u001b[38;5;124m'\u001b[39m\u001b[38;5;124m--remote-allow-origins=*\u001b[39m\u001b[38;5;124m'\u001b[39m]              \n\u001b[0;32m---> 13\u001b[0m     browser_proc \u001b[38;5;241m=\u001b[39m \u001b[43msubprocess\u001b[49m\u001b[38;5;241;43m.\u001b[39;49m\u001b[43mPopen\u001b[49m\u001b[43m(\u001b[49m\u001b[43m[\u001b[49m\u001b[43mbrowser_path\u001b[49m\u001b[43m]\u001b[49m\u001b[43m \u001b[49m\u001b[38;5;241;43m+\u001b[39;49m\u001b[43m \u001b[49m\u001b[43moptions\u001b[49m\u001b[43m)\u001b[49m\n\u001b[1;32m     14\u001b[0m     wait_seconds \u001b[38;5;241m=\u001b[39m \u001b[38;5;241m10.0\u001b[39m\n\u001b[1;32m     15\u001b[0m     sleep_step \u001b[38;5;241m=\u001b[39m \u001b[38;5;241m0.25\u001b[39m\n",
      "File \u001b[0;32m~/opt/anaconda3/lib/python3.9/subprocess.py:951\u001b[0m, in \u001b[0;36mPopen.__init__\u001b[0;34m(self, args, bufsize, executable, stdin, stdout, stderr, preexec_fn, close_fds, shell, cwd, env, universal_newlines, startupinfo, creationflags, restore_signals, start_new_session, pass_fds, user, group, extra_groups, encoding, errors, text, umask)\u001b[0m\n\u001b[1;32m    947\u001b[0m         \u001b[38;5;28;01mif\u001b[39;00m \u001b[38;5;28mself\u001b[39m\u001b[38;5;241m.\u001b[39mtext_mode:\n\u001b[1;32m    948\u001b[0m             \u001b[38;5;28mself\u001b[39m\u001b[38;5;241m.\u001b[39mstderr \u001b[38;5;241m=\u001b[39m io\u001b[38;5;241m.\u001b[39mTextIOWrapper(\u001b[38;5;28mself\u001b[39m\u001b[38;5;241m.\u001b[39mstderr,\n\u001b[1;32m    949\u001b[0m                     encoding\u001b[38;5;241m=\u001b[39mencoding, errors\u001b[38;5;241m=\u001b[39merrors)\n\u001b[0;32m--> 951\u001b[0m     \u001b[38;5;28;43mself\u001b[39;49m\u001b[38;5;241;43m.\u001b[39;49m\u001b[43m_execute_child\u001b[49m\u001b[43m(\u001b[49m\u001b[43margs\u001b[49m\u001b[43m,\u001b[49m\u001b[43m \u001b[49m\u001b[43mexecutable\u001b[49m\u001b[43m,\u001b[49m\u001b[43m \u001b[49m\u001b[43mpreexec_fn\u001b[49m\u001b[43m,\u001b[49m\u001b[43m \u001b[49m\u001b[43mclose_fds\u001b[49m\u001b[43m,\u001b[49m\n\u001b[1;32m    952\u001b[0m \u001b[43m                        \u001b[49m\u001b[43mpass_fds\u001b[49m\u001b[43m,\u001b[49m\u001b[43m \u001b[49m\u001b[43mcwd\u001b[49m\u001b[43m,\u001b[49m\u001b[43m \u001b[49m\u001b[43menv\u001b[49m\u001b[43m,\u001b[49m\n\u001b[1;32m    953\u001b[0m \u001b[43m                        \u001b[49m\u001b[43mstartupinfo\u001b[49m\u001b[43m,\u001b[49m\u001b[43m \u001b[49m\u001b[43mcreationflags\u001b[49m\u001b[43m,\u001b[49m\u001b[43m \u001b[49m\u001b[43mshell\u001b[49m\u001b[43m,\u001b[49m\n\u001b[1;32m    954\u001b[0m \u001b[43m                        \u001b[49m\u001b[43mp2cread\u001b[49m\u001b[43m,\u001b[49m\u001b[43m \u001b[49m\u001b[43mp2cwrite\u001b[49m\u001b[43m,\u001b[49m\n\u001b[1;32m    955\u001b[0m \u001b[43m                        \u001b[49m\u001b[43mc2pread\u001b[49m\u001b[43m,\u001b[49m\u001b[43m \u001b[49m\u001b[43mc2pwrite\u001b[49m\u001b[43m,\u001b[49m\n\u001b[1;32m    956\u001b[0m \u001b[43m                        \u001b[49m\u001b[43merrread\u001b[49m\u001b[43m,\u001b[49m\u001b[43m \u001b[49m\u001b[43merrwrite\u001b[49m\u001b[43m,\u001b[49m\n\u001b[1;32m    957\u001b[0m \u001b[43m                        \u001b[49m\u001b[43mrestore_signals\u001b[49m\u001b[43m,\u001b[49m\n\u001b[1;32m    958\u001b[0m \u001b[43m                        \u001b[49m\u001b[43mgid\u001b[49m\u001b[43m,\u001b[49m\u001b[43m \u001b[49m\u001b[43mgids\u001b[49m\u001b[43m,\u001b[49m\u001b[43m \u001b[49m\u001b[43muid\u001b[49m\u001b[43m,\u001b[49m\u001b[43m \u001b[49m\u001b[43mumask\u001b[49m\u001b[43m,\u001b[49m\n\u001b[1;32m    959\u001b[0m \u001b[43m                        \u001b[49m\u001b[43mstart_new_session\u001b[49m\u001b[43m)\u001b[49m\n\u001b[1;32m    960\u001b[0m \u001b[38;5;28;01mexcept\u001b[39;00m:\n\u001b[1;32m    961\u001b[0m     \u001b[38;5;66;03m# Cleanup if the child failed starting.\u001b[39;00m\n\u001b[1;32m    962\u001b[0m     \u001b[38;5;28;01mfor\u001b[39;00m f \u001b[38;5;129;01min\u001b[39;00m \u001b[38;5;28mfilter\u001b[39m(\u001b[38;5;28;01mNone\u001b[39;00m, (\u001b[38;5;28mself\u001b[39m\u001b[38;5;241m.\u001b[39mstdin, \u001b[38;5;28mself\u001b[39m\u001b[38;5;241m.\u001b[39mstdout, \u001b[38;5;28mself\u001b[39m\u001b[38;5;241m.\u001b[39mstderr)):\n",
      "File \u001b[0;32m~/opt/anaconda3/lib/python3.9/subprocess.py:1821\u001b[0m, in \u001b[0;36mPopen._execute_child\u001b[0;34m(self, args, executable, preexec_fn, close_fds, pass_fds, cwd, env, startupinfo, creationflags, shell, p2cread, p2cwrite, c2pread, c2pwrite, errread, errwrite, restore_signals, gid, gids, uid, umask, start_new_session)\u001b[0m\n\u001b[1;32m   1819\u001b[0m     \u001b[38;5;28;01mif\u001b[39;00m errno_num \u001b[38;5;241m!=\u001b[39m \u001b[38;5;241m0\u001b[39m:\n\u001b[1;32m   1820\u001b[0m         err_msg \u001b[38;5;241m=\u001b[39m os\u001b[38;5;241m.\u001b[39mstrerror(errno_num)\n\u001b[0;32m-> 1821\u001b[0m     \u001b[38;5;28;01mraise\u001b[39;00m child_exception_type(errno_num, err_msg, err_filename)\n\u001b[1;32m   1822\u001b[0m \u001b[38;5;28;01mraise\u001b[39;00m child_exception_type(err_msg)\n",
      "\u001b[0;31mFileNotFoundError\u001b[0m: [Errno 2] No such file or directory: '/usr/bin/google-chrome-unstable'"
     ]
    }
   ],
   "source": [
    "import json\n",
    "import time\n",
    "import subprocess\n",
    "import requests\n",
    "import websocket\n",
    "from websocket import create_connection\n",
    "websocket.enableTrace(True)\n",
    "def start_browser(browser_path, debugging_port):\n",
    "    options = [#'--headless',\n",
    "                f'--remote-debugging-port={debugging_port}',\n",
    "               #'--remote-allow-origins=http://127.0.0.1:{debugging_port}']\n",
    "               '--remote-allow-origins=*']              \n",
    "    browser_proc = subprocess.Popen([browser_path] + options)\n",
    "    wait_seconds = 10.0\n",
    "    sleep_step = 0.25\n",
    "    while wait_seconds > 0:\n",
    "        try:\n",
    "            url = f'http://127.0.0.1:{debugging_port}/json'\n",
    "            time.sleep(5)\n",
    "            resp = requests.get(url).json()\n",
    "            ws_url = resp[0]['webSocketDebuggerUrl']\n",
    "            return browser_proc, create_connection(ws_url) \n",
    "        except requests.exceptions.ConnectionError:\n",
    "            time.sleep(sleep_step)\n",
    "            wait_seconds -= sleep_step\n",
    "    raise Exception('Unable to connect to chrome')\n",
    "request_id = 0\n",
    "def run_command(conn, method, **kwargs):\n",
    "    global request_id\n",
    "    request_id += 1\n",
    "    command = {'method': method,\n",
    "               'id': request_id,\n",
    "               'params': kwargs}\n",
    "    conn.send(json.dumps(command))\n",
    "    while True:\n",
    "        msg = json.loads(conn.recv())\n",
    "        if msg.get('id') == request_id:\n",
    "            return msg\n",
    "tv_url = 'https://tradingview.com'\n",
    "#browser_path = '/usr/bin/google-chrome'\n",
    "#browser_path = '/usr/bin/google-chrome-beta'\n",
    "browser_path = '/usr/bin/google-chrome-unstable'\n",
    "#browser_path = '/usr/bin/microsoft-edge'\n",
    "#browser_path = '/snap/bin/chromium'\n",
    "#browser_path = '/usr/bin/firefox'\n",
    "browser, conn = start_browser(browser_path, 9222)\n",
    "run_command(conn, 'Page.navigate', url=tv_url)\n",
    "time.sleep(5) # let it load\n",
    "js = \"\"\"\n",
    "var step1 = document.evaluate('//button[@aria-label=\"Open user menu\"]', document, null, XPathResult.FIRST_ORDERED_NODE_TYPE, null).singleNodeValue;\n",
    "step1.click();\n",
    "var step2 = document.evaluate('//button[@data-name=\"header-user-menu-sign-in\"]', document, null, XPathResult.FIRST_ORDERED_NODE_TYPE, null).singleNodeValue;\n",
    "step2.click();\n",
    "setTimeout(function(){\n",
    "    document.getElementById(\"id_username\").focus();\n",
    "    document.getElementById(\"id_username\").value = \"zoghalesepid1\";\n",
    "\n",
    "    document.getElementById(\"id_password\").focus();\n",
    "    document.getElementById(\"id_password\").value = \"trader767789A9908\";\n",
    "    var signin = document.evaluate('//button[contains(@class,\"submitButton\")]', document, null, XPathResult.FIRST_ORDERED_NODE_TYPE, null).singleNodeValue;\n",
    "    signin.focus(); \n",
    "    signin.click(); \n",
    "},500);\n",
    "\"\"\"\n",
    "result = run_command(conn, 'Runtime.evaluate', expression=js)\n",
    "print(result)\n",
    "browser.terminate()"
   ]
  },
  {
   "cell_type": "code",
   "execution_count": 4,
   "id": "ee7c71ad",
   "metadata": {},
   "outputs": [
    {
     "name": "stdout",
     "output_type": "stream",
     "text": [
      "Login failed. Check your username and password.\n"
     ]
    }
   ],
   "source": [
    "import requests\n",
    "\n",
    "# Define login credentials\n",
    "username = 'zoghalesepid1'\n",
    "password = 'trader767789A9908'\n",
    "\n",
    "# Login URL and payload\n",
    "login_url = 'https://www.tradingview.com/accounts/signin/'\n",
    "payload = {\n",
    "    'username': username,\n",
    "    'password': password,\n",
    "    'remember': 'on'\n",
    "}\n",
    "\n",
    "# Session to persist login\n",
    "session = requests.Session()\n",
    "\n",
    "# Send login request\n",
    "response = session.post(login_url, data=payload)\n",
    "\n",
    "# Check if login was successful\n",
    "if response.ok:\n",
    "    print(\"Login successful!\")\n",
    "else:\n",
    "    print(\"Login failed. Check your username and password.\")"
   ]
  },
  {
   "cell_type": "code",
   "execution_count": 3,
   "id": "7fa623e1",
   "metadata": {},
   "outputs": [
    {
     "data": {
      "text/plain": [
       "<Response [403]>"
      ]
     },
     "execution_count": 3,
     "metadata": {},
     "output_type": "execute_result"
    }
   ],
   "source": [
    "response"
   ]
  },
  {
   "cell_type": "code",
   "execution_count": 5,
   "id": "3eaf23e4",
   "metadata": {},
   "outputs": [
    {
     "name": "stdout",
     "output_type": "stream",
     "text": [
      "Login failed. Check your username and password.\n"
     ]
    }
   ],
   "source": [
    "import requests\n",
    "import json\n",
    "import websocket\n",
    "import threading\n",
    "import time\n",
    "\n",
    "# TradingView credentials\n",
    "username = 'zoghalesepid1'\n",
    "password = 'trader767789A9908'\n",
    "\n",
    "# Function to login and get session\n",
    "def login(username, password):\n",
    "    login_url = 'https://www.tradingview.com/accounts/signin/'\n",
    "    headers = {\n",
    "        'Referer': 'https://www.tradingview.com',\n",
    "        'User-Agent': 'Mozilla/5.0'\n",
    "    }\n",
    "    payload = {\n",
    "        'username': username,\n",
    "        'password': password,\n",
    "        'remember': 'on',\n",
    "        'agree': 'true'\n",
    "    }\n",
    "    session = requests.Session()\n",
    "    response = session.post(login_url, data=json.dumps(payload), headers=headers)\n",
    "    if response.status_code == 200:\n",
    "        print(\"Login successful!\")\n",
    "        return session\n",
    "    else:\n",
    "        print(\"Login failed. Check your username and password.\")\n",
    "        return None\n",
    "\n",
    "# Function to maintain websocket connection\n",
    "def on_message(ws, message):\n",
    "    print(f\"Received message: {message}\")\n",
    "\n",
    "def on_error(ws, error):\n",
    "    print(f\"Error: {error}\")\n",
    "\n",
    "def on_close(ws):\n",
    "    print(\"Connection closed\")\n",
    "\n",
    "def on_open(ws):\n",
    "    def run(*args):\n",
    "        while True:\n",
    "            ws.send(\"heartbeat\")\n",
    "            time.sleep(5)\n",
    "    threading.Thread(target=run).start()\n",
    "\n",
    "# Main function to start the websocket connection\n",
    "def start_streaming():\n",
    "    session = login(username, password)\n",
    "    if session:\n",
    "        websocket_url = \"wss://data.tradingview.com/socket.io/websocket\"\n",
    "        ws = websocket.WebSocketApp(websocket_url,\n",
    "                                    on_message=on_message,\n",
    "                                    on_error=on_error,\n",
    "                                    on_close=on_close)\n",
    "        ws.on_open = on_open\n",
    "        ws.run_forever()\n",
    "\n",
    "if __name__ == \"__main__\":\n",
    "    start_streaming()"
   ]
  },
  {
   "cell_type": "code",
   "execution_count": null,
   "id": "faeeb1f9",
   "metadata": {},
   "outputs": [],
   "source": []
  }
 ],
 "metadata": {
  "kernelspec": {
   "display_name": "Python 3 (ipykernel)",
   "language": "python",
   "name": "python3"
  },
  "language_info": {
   "codemirror_mode": {
    "name": "ipython",
    "version": 3
   },
   "file_extension": ".py",
   "mimetype": "text/x-python",
   "name": "python",
   "nbconvert_exporter": "python",
   "pygments_lexer": "ipython3",
   "version": "3.9.12"
  }
 },
 "nbformat": 4,
 "nbformat_minor": 5
}
